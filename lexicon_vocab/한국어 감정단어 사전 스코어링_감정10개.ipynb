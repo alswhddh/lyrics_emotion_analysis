{
 "cells": [
  {
   "cell_type": "code",
   "execution_count": 1,
   "id": "5082e698",
   "metadata": {},
   "outputs": [],
   "source": [
    "from konlpy.tag import Kkma , Komoran , Okt\n",
    "from collections import Counter\n",
    "import matplotlib.pyplot as plt\n",
    "import re\n",
    "from nltk import word_tokenize \n",
    "from nltk.util import ngrams\n",
    "from nltk.corpus import stopwords\n",
    "plt.style.use('default')\n",
    "\n",
    "import pandas as pd\n",
    "import numpy as np"
   ]
  },
  {
   "cell_type": "code",
   "execution_count": 2,
   "id": "8d0f1fe4",
   "metadata": {},
   "outputs": [],
   "source": [
    "stop_words = set(stopwords.words('english')) "
   ]
  },
  {
   "cell_type": "code",
   "execution_count": 3,
   "id": "c64cbb0a",
   "metadata": {},
   "outputs": [],
   "source": [
    "kmoran = Komoran()"
   ]
  },
  {
   "cell_type": "code",
   "execution_count": 3,
   "id": "b32f8d34",
   "metadata": {},
   "outputs": [],
   "source": [
    "df = pd.read_excel('../preprocessing/lyrics_dataset/emotion_labels(ko).xlsb.xlsx')\n",
    "del df['Unnamed: 0']"
   ]
  },
  {
   "cell_type": "code",
   "execution_count": 4,
   "id": "7ccdefac",
   "metadata": {},
   "outputs": [],
   "source": [
    "data = df.copy()"
   ]
  },
  {
   "cell_type": "code",
   "execution_count": 6,
   "id": "df6b0a7c",
   "metadata": {},
   "outputs": [
    {
     "data": {
      "text/plain": [
       "0.0     1535\n",
       "6.0     1401\n",
       "2.0     1196\n",
       "7.0      957\n",
       "3.0      934\n",
       "4.0      569\n",
       "5.0      563\n",
       "8.0      456\n",
       "9.0      409\n",
       "10.0     127\n",
       "Name: emotion_v2, dtype: int64"
      ]
     },
     "execution_count": 6,
     "metadata": {},
     "output_type": "execute_result"
    }
   ],
   "source": [
    "data['emotion_v2'].value_counts()"
   ]
  },
  {
   "cell_type": "code",
   "execution_count": 6,
   "id": "b26fd69d",
   "metadata": {},
   "outputs": [],
   "source": [
    "emotion = {'love' : '' ,'fun' : '' , 'enthusiasm' : '' ,'happyness':''\n",
    "           , 'sadness' : '' ,'anger': '','lonely': '' , 'longing' : '' , 'fear' : ''}"
   ]
  },
  {
   "cell_type": "code",
   "execution_count": 8,
   "id": "3f21509b",
   "metadata": {},
   "outputs": [],
   "source": [
    "def lyrics_to_corpus(lyrics):\n",
    "    lyrics = re.split('\\r\\n|\\n',lyrics)\n",
    "    #중복제거\n",
    "    corpus = list(set(lyrics))\n",
    "    result = \" \".join(corpus)\n",
    "    return result"
   ]
  },
  {
   "cell_type": "code",
   "execution_count": 15,
   "id": "8453b9c6",
   "metadata": {},
   "outputs": [],
   "source": [
    "for i in range(len(emotion)):\n",
    "    emotion_df = data[data['emotion_v2'] == i+2]\n",
    "    corpus = \" \".join(emotion_df['lyrics splited'].values)\n",
    "    emotion[list(emotion.keys())[i]] = corpus"
   ]
  },
  {
   "cell_type": "code",
   "execution_count": 17,
   "id": "85c42b2c",
   "metadata": {},
   "outputs": [],
   "source": [
    "#코모란 형태소 분석기\n",
    "def emotion_tokenizer(corpus):\n",
    "    temp = []\n",
    "    for i in kmoran.pos(corpus):\n",
    "        if (i[1] == 'NNG' or i[1] == 'NNP'):\n",
    "            temp.append(i[0])\n",
    "        elif (i[1] == 'VV' or i[1] == 'VA'):\n",
    "            temp.append(i[0] + \"다\")\n",
    "        elif (i[1] == 'SL'):\n",
    "            if i[0].lower() not in stop_words:\n",
    "                temp.append(i[0].lower())\n",
    "    return temp"
   ]
  },
  {
   "cell_type": "code",
   "execution_count": 19,
   "id": "b9800870",
   "metadata": {},
   "outputs": [],
   "source": [
    "emotion_count = {}\n",
    "vocab = {}\n",
    "for i in range(len(emotion)):\n",
    "    emotion_key = list(emotion.keys())[i]\n",
    "    emotion_count[emotion_key] = Counter(emotion_tokenizer(emotion[emotion_key])).most_common(300)\n",
    "    for words , counts in emotion_count[emotion_key]:\n",
    "        if words in list(vocab.keys()):\n",
    "            vocab[words][emotion_key] = counts\n",
    "        else:\n",
    "            vocab[words] = {emotion_key : counts }"
   ]
  },
  {
   "cell_type": "code",
   "execution_count": 104,
   "id": "e5df674a",
   "metadata": {},
   "outputs": [],
   "source": [
    "emotion_keys = list(emotion.keys())\n",
    "for word in list(vocab.keys()):\n",
    "    total = sum(vocab[word].values())\n",
    "    for keys in emotion_keys:\n",
    "        try:\n",
    "            vocab[word][keys] = round( (vocab[word][keys]  / total) , 2 )\n",
    "        except KeyError:\n",
    "            pass"
   ]
  },
  {
   "cell_type": "code",
   "execution_count": 24,
   "id": "6552ea54",
   "metadata": {},
   "outputs": [],
   "source": [
    "def lexicon_emotion_clf(sentence):\n",
    "    temp = Counter()\n",
    "    for word in emotion_tokenizer(sentence):\n",
    "        try:\n",
    "            temp = temp + Counter(vocab[word])\n",
    "        except KeyError:\n",
    "            pass\n",
    "    emotion = list(temp.keys())\n",
    "    score = list(temp.values())\n",
    "    \n",
    "    plt.pie(score, labels=emotion, autopct='%.1f%%')\n",
    "    plt.show()\n",
    "    \n",
    "    return [k for k,v in dict(temp).items() if max(dict(temp).values()) == v]"
   ]
  },
  {
   "cell_type": "code",
   "execution_count": 25,
   "id": "8f15c665",
   "metadata": {},
   "outputs": [],
   "source": [
    "test = \"\"\"아름다운지 말야\n",
    "You are my celebrity\n",
    "celebrity\n",
    "You are my celebrity\n",
    "지쳐버린 표정 마치\n",
    "전원을 꺼놓은 듯이\n",
    "심장소린 too quiet\n",
    "네가 가진 반짝거림,\n",
    "상상력, identity\n",
    "까지 모조리 diet\n",
    "넌 모르지\n",
    "아직 못다 핀\n",
    "널 위해 쓰여진\n",
    "오래된 사랑시\n",
    "헤매도 좋으니\n",
    "웃음 짓게 되길\n",
    "The one and only\n",
    "You are my celebrity\n",
    "잊지마 넌 흐린 어둠 사이\n",
    "왼손으로 그린 별 하나\n",
    "보이니 그 유일함이 얼마나\n",
    "아름다운지 말야\n",
    "You are my celebrity\n",
    "발자국마다 이어진 별자리\n",
    "그 서투른 걸음이 새겨놓은 밑그림\n",
    "오롯이 너를 만나러 가는 길\n",
    "그리로 가면 돼 점선을 따라\n",
    "잊지마 이 오랜 겨울 사이\n",
    "언 틈으로 피울 꽃 하나\n",
    "보이니 하루 뒤 봄이 얼마나\n",
    "아름다울지 말야\n",
    "You are my celebrity\n",
    "celebrity\n",
    "You are my celebrity \"\"\""
   ]
  },
  {
   "cell_type": "code",
   "execution_count": 26,
   "id": "a53e2a41",
   "metadata": {},
   "outputs": [
    {
     "data": {
      "text/plain": [
       "'아름다운지 말야 celebrity 넌 모르지 언 틈으로 피울 꽃 하나 헤매도 좋으니 그 서투른 걸음이 새겨놓은 밑그림 오래된 사랑시 아름다울지 말야 발자국마다 이어진 별자리 You are my celebrity 심장소린 too quiet 널 위해 쓰여진 오롯이 너를 만나러 가는 길 잊지마 넌 흐린 어둠 사이 까지 모조리 diet 왼손으로 그린 별 하나 지쳐버린 표정 마치 잊지마 이 오랜 겨울 사이 You are my celebrity  네가 가진 반짝거림, 보이니 그 유일함이 얼마나 그리로 가면 돼 점선을 따라 보이니 하루 뒤 봄이 얼마나 The one and only 상상력, identity 웃음 짓게 되길 전원을 꺼놓은 듯이 아직 못다 핀'"
      ]
     },
     "execution_count": 26,
     "metadata": {},
     "output_type": "execute_result"
    }
   ],
   "source": [
    "lyrics_to_corpus(test)"
   ]
  },
  {
   "cell_type": "code",
   "execution_count": 27,
   "id": "5ca5b865",
   "metadata": {},
   "outputs": [
    {
     "data": {
      "image/png": "[encoded data removed]",
      "text/plain": [
       "<Figure size 640x480 with 1 Axes>"
      ]
     },
     "metadata": {},
     "output_type": "display_data"
    },
    {
     "data": {
      "text/plain": [
       "['love']"
      ]
     },
     "execution_count": 27,
     "metadata": {},
     "output_type": "execute_result"
    }
   ],
   "source": [
    "lexicon_emotion_clf(lyrics_to_corpus(test))"
   ]
  },
  {
   "cell_type": "code",
   "execution_count": null,
   "id": "695b3306",
   "metadata": {},
   "outputs": [],
   "source": []
  }
 ],
 "metadata": {
  "kernelspec": {
   "display_name": "develop",
   "language": "python",
   "name": "tensorflow"
  },
  "language_info": {
   "codemirror_mode": {
    "name": "ipython",
    "version": 3
   },
   "file_extension": ".py",
   "mimetype": "text/x-python",
   "name": "python",
   "nbconvert_exporter": "python",
   "pygments_lexer": "ipython3",
   "version": "3.8.8"
  }
 },
 "nbformat": 4,
 "nbformat_minor": 5
}
